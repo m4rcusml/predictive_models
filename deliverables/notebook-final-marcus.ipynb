{
 "cells": [
  {
   "cell_type": "markdown",
   "id": "8378575c",
   "metadata": {
    "id": "vggTmAqXilJ5",
    "papermill": {
     "duration": 0.007074,
     "end_time": "2025-09-30T18:44:44.929560",
     "exception": false,
     "start_time": "2025-09-30T18:44:44.922486",
     "status": "completed"
    },
    "tags": []
   },
   "source": [
    "# Modelo de Predição de Sucesso de Startups do Kaggle\n",
    "\n",
    "## Marcus Felipe dos Santos Valente - T16\n",
    "\n",
    "Este notebook apresenta o desenvolvimento de um modelo de machine learning para predizer o sucesso de startups utilizando apenas as bibliotecas permitidas: Numpy, Pandas, Scikit-Learn, Matplotlib, Seaborn e Plotly.\n",
    "\n",
    "O objetivo é atingir a maior acurácia possível no conjunto de teste, seguindo as regras do campeonato onde apenas essas bibliotecas são permitidas."
   ]
  },
  {
   "cell_type": "markdown",
   "id": "bc257ea6",
   "metadata": {
    "id": "eO_1hNkzdeEn",
    "papermill": {
     "duration": 0.005778,
     "end_time": "2025-09-30T18:44:44.941762",
     "exception": false,
     "start_time": "2025-09-30T18:44:44.935984",
     "status": "completed"
    },
    "tags": []
   },
   "source": [
    "## 0. Observações iniciais\n",
    "\n",
    "Eu fiz inicialmente vários arquivos python e só depois documentei no colab. Então no decorrer da apresentação fiquei parafraseando os arquivos python.\n",
    "Para tornar a documentação mais completa, aqui estão os arquivos python originais:\n",
    "- [01.py](https://github.com/m4rcusml/predictive_models/blob/main/01.py) - uso do scikit learn e xgboost\n",
    "- [02.py](https://github.com/m4rcusml/predictive_models/blob/main/02.py) - Adaptando o código 01 e tentando conseguir acima de 80% de public score no kaggle\n",
    "- [03.py](https://github.com/m4rcusml/predictive_models/blob/main/03.py) - Tentando uma forma diferente de seleção de features\n",
    "- [04.py](https://github.com/m4rcusml/predictive_models/blob/main/fourth_day/04.py) - Fazendo um código otimizado com ajuda de IA\n",
    "- [05.py](https://github.com/m4rcusml/predictive_models/blob/main/fourth_day/05.py) - Usando muita IA para gerar as features e tentar maximizar as métricas do modelo"
   ]
  },
  {
   "cell_type": "markdown",
   "id": "fcaa7d8b",
   "metadata": {
    "id": "gV112ZY6ilJ6",
    "papermill": {
     "duration": 0.00591,
     "end_time": "2025-09-30T18:44:44.953700",
     "exception": false,
     "start_time": "2025-09-30T18:44:44.947790",
     "status": "completed"
    },
    "tags": []
   },
   "source": [
    "## 1. Importação de Bibliotecas\n",
    "\n",
    "Importamos apenas as bibliotecas permitidas pelas regras do campeonato."
   ]
  },
  {
   "cell_type": "code",
   "execution_count": 1,
   "id": "efcaa35e",
   "metadata": {
    "execution": {
     "iopub.execute_input": "2025-09-30T18:44:44.967057Z",
     "iopub.status.busy": "2025-09-30T18:44:44.966757Z",
     "iopub.status.idle": "2025-09-30T18:44:49.716988Z",
     "shell.execute_reply": "2025-09-30T18:44:49.716016Z"
    },
    "id": "K0Nh4989ilJ7",
    "papermill": {
     "duration": 4.758947,
     "end_time": "2025-09-30T18:44:49.718703",
     "exception": false,
     "start_time": "2025-09-30T18:44:44.959756",
     "status": "completed"
    },
    "tags": []
   },
   "outputs": [],
   "source": [
    "import pandas as pd\n",
    "import numpy as np\n",
    "import matplotlib.pyplot as plt\n",
    "import seaborn as sns\n",
    "from sklearn.impute import SimpleImputer\n",
    "from sklearn.preprocessing import StandardScaler, OneHotEncoder\n",
    "from sklearn.compose import ColumnTransformer\n",
    "from sklearn.pipeline import Pipeline\n",
    "from sklearn.ensemble import RandomForestClassifier\n",
    "from sklearn.model_selection import train_test_split, cross_val_score, StratifiedKFold, GridSearchCV, RandomizedSearchCV\n",
    "from sklearn.metrics import classification_report, confusion_matrix, roc_auc_score, f1_score"
   ]
  },
  {
   "cell_type": "markdown",
   "id": "73c99bea",
   "metadata": {
    "id": "67JaFpr-ilJ8",
    "papermill": {
     "duration": 0.006066,
     "end_time": "2025-09-30T18:44:49.731375",
     "exception": false,
     "start_time": "2025-09-30T18:44:49.725309",
     "status": "completed"
    },
    "tags": []
   },
   "source": [
    "## 2. Carregamento e Preparação dos Dados\n",
    "\n",
    "Carregamos os datasets de treino e teste fornecidos na competição."
   ]
  },
  {
   "cell_type": "code",
   "execution_count": 2,
   "id": "1a19179d",
   "metadata": {
    "execution": {
     "iopub.execute_input": "2025-09-30T18:44:49.745730Z",
     "iopub.status.busy": "2025-09-30T18:44:49.745303Z",
     "iopub.status.idle": "2025-09-30T18:44:49.791088Z",
     "shell.execute_reply": "2025-09-30T18:44:49.789964Z"
    },
    "executionInfo": {
     "elapsed": 14,
     "status": "ok",
     "timestamp": 1759252113523,
     "user": {
      "displayName": "Marcus Valente",
      "userId": "17985071743837421142"
     },
     "user_tz": 180
    },
    "id": "uf5DUtYwilJ8",
    "outputId": "9cbd252d-601a-4ea5-b66a-a92aa88275d7",
    "papermill": {
     "duration": 0.054533,
     "end_time": "2025-09-30T18:44:49.792771",
     "exception": false,
     "start_time": "2025-09-30T18:44:49.738238",
     "status": "completed"
    },
    "tags": []
   },
   "outputs": [
    {
     "name": "stdout",
     "output_type": "stream",
     "text": [
      "Shape do dataset de treino: (646, 33)\n",
      "Shape do dataset de teste: (277, 32)\n",
      "\n",
      "Distribuição do target:\n",
      "labels\n",
      "1    0.647059\n",
      "0    0.352941\n",
      "Name: proportion, dtype: float64\n"
     ]
    }
   ],
   "source": [
    "# Carregamento dos dados\n",
    "train = pd.read_csv('/kaggle/input/campeonato-inteli-modulo3-2025/train.csv')\n",
    "test = pd.read_csv('/kaggle/input/campeonato-inteli-modulo3-2025/test.csv')\n",
    "\n",
    "print(f\"Shape do dataset de treino: {train.shape}\")\n",
    "print(f\"Shape do dataset de teste: {test.shape}\")\n",
    "print(f\"\\nDistribuição do target:\")\n",
    "print(train['labels'].value_counts(normalize=True))"
   ]
  },
  {
   "cell_type": "markdown",
   "id": "4019ea72",
   "metadata": {
    "id": "gkbpUEP_ilJ9",
    "papermill": {
     "duration": 0.005982,
     "end_time": "2025-09-30T18:44:49.805333",
     "exception": false,
     "start_time": "2025-09-30T18:44:49.799351",
     "status": "completed"
    },
    "tags": []
   },
   "source": [
    "## 3. Análise Exploratória dos Dados\n",
    "\n",
    "Realizamos uma exploração inicial para entender melhor as características dos dados."
   ]
  },
  {
   "cell_type": "code",
   "execution_count": 3,
   "id": "bcf28c4e",
   "metadata": {
    "execution": {
     "iopub.execute_input": "2025-09-30T18:44:49.819019Z",
     "iopub.status.busy": "2025-09-30T18:44:49.818687Z",
     "iopub.status.idle": "2025-09-30T18:44:50.135112Z",
     "shell.execute_reply": "2025-09-30T18:44:50.134011Z"
    },
    "executionInfo": {
     "elapsed": 312,
     "status": "ok",
     "timestamp": 1759252113837,
     "user": {
      "displayName": "Marcus Valente",
      "userId": "17985071743837421142"
     },
     "user_tz": 180
    },
    "id": "Af1j_-jHilJ9",
    "outputId": "a49985d2-f23f-4ee2-d31c-85d16ecc65bf",
    "papermill": {
     "duration": 0.325451,
     "end_time": "2025-09-30T18:44:50.137021",
     "exception": false,
     "start_time": "2025-09-30T18:44:49.811570",
     "status": "completed"
    },
    "tags": []
   },
   "outputs": [
    {
     "data": {
      "image/png": "[encoded data removed]",
      "text/plain": [
       "<Figure size 800x600 with 1 Axes>"
      ]
     },
     "metadata": {},
     "output_type": "display_data"
    },
    {
     "name": "stdout",
     "output_type": "stream",
     "text": [
      "\n",
      "Missing values no dataset de treino:\n",
      "age_first_milestone_year    138\n",
      "age_last_milestone_year     111\n",
      "age_first_funding_year       35\n",
      "age_last_funding_year         9\n",
      "id                            0\n",
      "has_VC                        0\n",
      "is_ecommerce                  0\n",
      "is_biotech                    0\n",
      "is_consulting                 0\n",
      "is_othercategory              0\n",
      "dtype: int64\n",
      "\n",
      "Estatísticas descritivas das principais variáveis numéricas:\n",
      "       funding_total_usd  relationships  funding_rounds  milestones\n",
      "count       6.460000e+02     646.000000      646.000000  646.000000\n",
      "mean        2.949633e+07       7.948916        2.351393    1.913313\n",
      "std         2.261999e+08       7.397602        1.357856    1.337095\n",
      "min         1.100000e+04       0.000000        1.000000    0.000000\n",
      "25%         3.000000e+06       3.000000        1.000000    1.000000\n",
      "50%         1.020000e+07       6.000000        2.000000    2.000000\n",
      "75%         2.587500e+07      10.000000        3.000000    3.000000\n",
      "max         5.700000e+09      63.000000        8.000000    6.000000\n"
     ]
    }
   ],
   "source": [
    "# Análise da distribuição do target\n",
    "plt.figure(figsize=(8, 6))\n",
    "sns.countplot(data=train, x='labels')\n",
    "plt.title('Distribuição dos Labels (Sucesso vs Fracasso)')\n",
    "plt.xlabel('Label (0: Fracasso, 1: Sucesso)')\n",
    "plt.ylabel('Quantidade')\n",
    "plt.show()\n",
    "\n",
    "# Informações básicas sobre missing values\n",
    "print(\"\\nMissing values no dataset de treino:\")\n",
    "print(train.isnull().sum().sort_values(ascending=False)[:10])\n",
    "\n",
    "# Estatísticas descritivas\n",
    "print(\"\\nEstatísticas descritivas das principais variáveis numéricas:\")\n",
    "numeric_cols = ['funding_total_usd', 'relationships', 'funding_rounds', 'milestones']\n",
    "print(train[numeric_cols].describe())"
   ]
  },
  {
   "cell_type": "markdown",
   "id": "1dcafbe7",
   "metadata": {
    "id": "jmWKMlXsilJ-",
    "papermill": {
     "duration": 0.006649,
     "end_time": "2025-09-30T18:44:50.151740",
     "exception": false,
     "start_time": "2025-09-30T18:44:50.145091",
     "status": "completed"
    },
    "tags": []
   },
   "source": [
    "## 4. Engenharia de Features\n",
    "\n",
    "Criamos novas features baseadas nas variáveis existentes para melhorar a capacidade preditiva do modelo. As features criadas são baseadas em relações lógicas entre as variáveis originais e foram desenvolvidas com base no arquivo 01.py."
   ]
  },
  {
   "cell_type": "code",
   "execution_count": 4,
   "id": "f26bd042",
   "metadata": {
    "execution": {
     "iopub.execute_input": "2025-09-30T18:44:50.166912Z",
     "iopub.status.busy": "2025-09-30T18:44:50.166581Z",
     "iopub.status.idle": "2025-09-30T18:44:50.191494Z",
     "shell.execute_reply": "2025-09-30T18:44:50.190185Z"
    },
    "executionInfo": {
     "elapsed": 26,
     "status": "ok",
     "timestamp": 1759252113867,
     "user": {
      "displayName": "Marcus Valente",
      "userId": "17985071743837421142"
     },
     "user_tz": 180
    },
    "id": "FB8X1zuCilJ-",
    "outputId": "a6c31d80-38a5-4741-ac4b-27fc535bc0e4",
    "papermill": {
     "duration": 0.034461,
     "end_time": "2025-09-30T18:44:50.193158",
     "exception": false,
     "start_time": "2025-09-30T18:44:50.158697",
     "status": "completed"
    },
    "tags": []
   },
   "outputs": [
    {
     "name": "stdout",
     "output_type": "stream",
     "text": [
      "Features de engenharia criadas com sucesso!\n",
      "Novas colunas criadas: 0\n"
     ]
    }
   ],
   "source": [
    "# Feature Engineering baseado no arquivo 01.py - aplicado tanto no treino quanto no teste\n",
    "for df in [train, test]:\n",
    "    # Funding por rodada - evita divisão por zero adicionando pequeno valor\n",
    "    df['funding_per_round'] = df['funding_total_usd'] / (df['funding_rounds'] + 1e-9)\n",
    "\n",
    "    # Milestones por cada ano da idade do último milestone (preenche NaN com mediana)\n",
    "    df['milestones_per_year'] = df['milestones'] / (df['age_last_milestone_year'].fillna(df['age_last_milestone_year'].median()) + 1)\n",
    "\n",
    "    # Funding dividido pela idade de captação final\n",
    "    df['funding_per_year'] = df['funding_total_usd'] / (df['age_last_funding_year'].fillna(df['age_last_funding_year'].median()) + 1)\n",
    "\n",
    "    # Relação de investidores por rodada\n",
    "    df['participants_per_round'] = df['avg_participants'] / (df['funding_rounds'] + 1e-9)\n",
    "\n",
    "    # Relação de networking por rodada\n",
    "    df['relationships_per_round'] = df['relationships'] / (df['funding_rounds'] + 1e-9)\n",
    "\n",
    "    # Interações de dummies regionais/setoriais baseadas em insights de análise\n",
    "    df['is_CA_software'] = df['is_CA'] * df['is_software']\n",
    "    df['is_NY_advertising'] = df['is_NY'] * df['is_advertising']\n",
    "    df['is_MA_biotech'] = df['is_MA'] * df['is_biotech']\n",
    "\n",
    "    # Feature binária por faixas de funding (>mediana)\n",
    "    df['is_high_funding'] = (df['funding_total_usd'] > df['funding_total_usd'].median()).astype(int)\n",
    "\n",
    "    # Feature binária por faixas de milestones (>mediana)\n",
    "    df['is_high_milestones'] = (df['milestones'] > df['milestones'].median()).astype(int)\n",
    "\n",
    "    # Tempo entre primeiro funding e primeiro milestone\n",
    "    df['time_to_first_milestone_after_funding'] = (\n",
    "        df['age_first_milestone_year'] - df['age_first_funding_year']\n",
    "    )\n",
    "\n",
    "    # Milestone por milhão de dólares investidos\n",
    "    df['milestone_per_million'] = df['milestones'] / (df['funding_total_usd'] / 1e6 + 1)\n",
    "\n",
    "print(\"Features de engenharia criadas com sucesso!\")\n",
    "print(f\"Novas colunas criadas: {len([col for col in train.columns if col not in ['id', 'labels'] and col not in test.columns])}\")"
   ]
  },
  {
   "cell_type": "markdown",
   "id": "267cd3bb",
   "metadata": {
    "id": "-Ar47t7filJ_",
    "papermill": {
     "duration": 0.007048,
     "end_time": "2025-09-30T18:44:50.207389",
     "exception": false,
     "start_time": "2025-09-30T18:44:50.200341",
     "status": "completed"
    },
    "tags": []
   },
   "source": [
    "## 5. Limpeza e Tratamento de Valores Nulos\n",
    "\n",
    "Definimos estratégias para tratar valores ausentes considerando que alguns NaN podem representar ausência de informação (ex: não teve milestone). Utilizamos imputação com mediana para variáveis contínuas."
   ]
  },
  {
   "cell_type": "code",
   "execution_count": 5,
   "id": "4c39f4b5",
   "metadata": {
    "execution": {
     "iopub.execute_input": "2025-09-30T18:44:50.223501Z",
     "iopub.status.busy": "2025-09-30T18:44:50.222769Z",
     "iopub.status.idle": "2025-09-30T18:44:50.230840Z",
     "shell.execute_reply": "2025-09-30T18:44:50.229657Z"
    },
    "executionInfo": {
     "elapsed": 6,
     "status": "ok",
     "timestamp": 1759252113885,
     "user": {
      "displayName": "Marcus Valente",
      "userId": "17985071743837421142"
     },
     "user_tz": 180
    },
    "id": "K3LQCwpcilJ_",
    "outputId": "46e469e8-e7bf-4ed0-8f03-1545dedef32b",
    "papermill": {
     "duration": 0.018075,
     "end_time": "2025-09-30T18:44:50.232664",
     "exception": false,
     "start_time": "2025-09-30T18:44:50.214589",
     "status": "completed"
    },
    "tags": []
   },
   "outputs": [
    {
     "name": "stdout",
     "output_type": "stream",
     "text": [
      "Features contínuas: 14\n",
      "Features categóricas: 1\n",
      "Features binárias: 26\n"
     ]
    }
   ],
   "source": [
    "# Separando features por tipo para aplicar estratégias específicas\n",
    "cont_features = [\n",
    "    'age_first_funding_year', 'age_last_funding_year',\n",
    "    'age_first_milestone_year', 'age_last_milestone_year',\n",
    "    'relationships', 'funding_rounds', 'funding_total_usd',\n",
    "    'milestones', 'avg_participants', 'relationships_per_round',\n",
    "    'participants_per_round', 'funding_per_year', 'milestones_per_year',\n",
    "    'funding_per_round'\n",
    "]\n",
    "\n",
    "cat_features = ['category_code']\n",
    "bin_features = [col for col in train.columns if col.startswith('is_') or col.startswith('has_') and col != 'is_othercategory']\n",
    "\n",
    "print(f\"Features contínuas: {len(cont_features)}\")\n",
    "print(f\"Features categóricas: {len(cat_features)}\")\n",
    "print(f\"Features binárias: {len(bin_features)}\")\n",
    "\n",
    "# Configurando transformers para cada tipo de feature\n",
    "# Para contínuas: imputação com mediana + padronização\n",
    "cont_transformer = Pipeline([\n",
    "    ('imputer', SimpleImputer(strategy='median')),\n",
    "    ('scaler', StandardScaler())\n",
    "])\n",
    "\n",
    "# Para categóricas: One-Hot encoding\n",
    "cat_transformer = Pipeline([\n",
    "    ('onehot', OneHotEncoder(handle_unknown='ignore'))\n",
    "])\n",
    "\n",
    "# Combinando todos os transformers\n",
    "preprocessor = ColumnTransformer([\n",
    "    ('cont', cont_transformer, cont_features),\n",
    "    ('cat', cat_transformer, cat_features),\n",
    "    ('bin', 'passthrough', bin_features)\n",
    "])"
   ]
  },
  {
   "cell_type": "markdown",
   "id": "6aa6cfe6",
   "metadata": {
    "id": "cLaf1FpUilJ_",
    "papermill": {
     "duration": 0.007098,
     "end_time": "2025-09-30T18:44:50.247380",
     "exception": false,
     "start_time": "2025-09-30T18:44:50.240282",
     "status": "completed"
    },
    "tags": []
   },
   "source": [
    "## 6. Codificação de Variáveis Categóricas\n",
    "\n",
    "Aplicamos One-Hot encoding para a variável categórica 'category_code', que representa os setores das startups. Esta técnica foi escolhida pois está disponível no scikit-learn e funciona bem com algoritmos baseados em árvores."
   ]
  },
  {
   "cell_type": "code",
   "execution_count": 6,
   "id": "0c89fdba",
   "metadata": {
    "execution": {
     "iopub.execute_input": "2025-09-30T18:44:50.263317Z",
     "iopub.status.busy": "2025-09-30T18:44:50.263040Z",
     "iopub.status.idle": "2025-09-30T18:44:50.278514Z",
     "shell.execute_reply": "2025-09-30T18:44:50.277369Z"
    },
    "executionInfo": {
     "elapsed": 40,
     "status": "ok",
     "timestamp": 1759252113926,
     "user": {
      "displayName": "Marcus Valente",
      "userId": "17985071743837421142"
     },
     "user_tz": 180
    },
    "id": "1pCxfCm5ilJ_",
    "outputId": "64a535ad-4e25-486f-deb0-8aad6bd89f2e",
    "papermill": {
     "duration": 0.024974,
     "end_time": "2025-09-30T18:44:50.279989",
     "exception": false,
     "start_time": "2025-09-30T18:44:50.255015",
     "status": "completed"
    },
    "tags": []
   },
   "outputs": [
    {
     "name": "stdout",
     "output_type": "stream",
     "text": [
      "Shape do conjunto de treino: (516, 43)\n",
      "Shape do conjunto de validação: (130, 43)\n",
      "\n",
      "Distribuição do target no treino: {1: 0.647, 0: 0.353}\n",
      "Distribuição do target na validação: {1: 0.646, 0: 0.354}\n"
     ]
    }
   ],
   "source": [
    "# Preparação dos dados para modelagem\n",
    "X = train.drop(['id', 'labels'], axis=1)\n",
    "y = train['labels']\n",
    "\n",
    "# Split estratificado para manter proporção do target\n",
    "X_train, X_val, y_train, y_val = train_test_split(X, y, stratify=y, test_size=0.2, random_state=42)\n",
    "\n",
    "print(f\"Shape do conjunto de treino: {X_train.shape}\")\n",
    "print(f\"Shape do conjunto de validação: {X_val.shape}\")\n",
    "print(f\"\\nDistribuição do target no treino: {y_train.value_counts(normalize=True).round(3).to_dict()}\")\n",
    "print(f\"Distribuição do target na validação: {y_val.value_counts(normalize=True).round(3).to_dict()}\")"
   ]
  },
  {
   "cell_type": "markdown",
   "id": "811ff14d",
   "metadata": {
    "id": "DYWsM75ZilKA",
    "papermill": {
     "duration": 0.007036,
     "end_time": "2025-09-30T18:44:50.294361",
     "exception": false,
     "start_time": "2025-09-30T18:44:50.287325",
     "status": "completed"
    },
    "tags": []
   },
   "source": [
    "## 7. Exploração e Visualização dos Dados\n",
    "\n",
    "Analisamos correlações e padrões nos dados para entender relações importantes entre as features e o target."
   ]
  },
  {
   "cell_type": "code",
   "execution_count": 7,
   "id": "6791ecf2",
   "metadata": {
    "execution": {
     "iopub.execute_input": "2025-09-30T18:44:50.309992Z",
     "iopub.status.busy": "2025-09-30T18:44:50.309636Z",
     "iopub.status.idle": "2025-09-30T18:44:53.002684Z",
     "shell.execute_reply": "2025-09-30T18:44:53.001755Z"
    },
    "executionInfo": {
     "elapsed": 2689,
     "status": "ok",
     "timestamp": 1759252116617,
     "user": {
      "displayName": "Marcus Valente",
      "userId": "17985071743837421142"
     },
     "user_tz": 180
    },
    "id": "7u6d8XUNilKA",
    "outputId": "fa6af032-57ce-4772-877b-1e6efb79a3e8",
    "papermill": {
     "duration": 2.702738,
     "end_time": "2025-09-30T18:44:53.004254",
     "exception": false,
     "start_time": "2025-09-30T18:44:50.301516",
     "status": "completed"
    },
    "tags": []
   },
   "outputs": [
    {
     "data": {
      "image/png": "[encoded data removed]",
      "text/plain": [
       "<Figure size 1200x800 with 6 Axes>"
      ]
     },
     "metadata": {},
     "output_type": "display_data"
    },
    {
     "name": "stderr",
     "output_type": "stream",
     "text": [
      "/usr/local/lib/python3.11/dist-packages/matplotlib/colors.py:721: RuntimeWarning: invalid value encountered in less\n",
      "  xa[xa < 0] = -1\n"
     ]
    },
    {
     "data": {
      "image/png": "[encoded data removed]",
      "text/plain": [
       "<Figure size 1000x800 with 2 Axes>"
      ]
     },
     "metadata": {},
     "output_type": "display_data"
    }
   ],
   "source": [
    "# Análise de correlação entre features numéricas e target\n",
    "numeric_features = ['funding_total_usd', 'relationships', 'funding_rounds', 'milestones',\n",
    "                   'funding_per_round', 'funding_per_year']\n",
    "\n",
    "plt.figure(figsize=(12, 8))\n",
    "for i, feature in enumerate(numeric_features, 1):\n",
    "    plt.subplot(2, 3, i)\n",
    "    sns.boxplot(data=train, x='labels', y=feature)\n",
    "    plt.title(f'Distribuição de {feature} por Label')\n",
    "    plt.yscale('log')\n",
    "plt.tight_layout()\n",
    "plt.show()\n",
    "\n",
    "# Matriz de correlação das features numéricas\n",
    "plt.figure(figsize=(10, 8))\n",
    "correlation_matrix = train[numeric_features + ['labels']].corr()\n",
    "sns.heatmap(correlation_matrix, annot=True, cmap='coolwarm', center=0)\n",
    "plt.title('Matriz de Correlação - Features Numéricas')\n",
    "plt.show()"
   ]
  },
  {
   "cell_type": "markdown",
   "id": "43ac945b",
   "metadata": {
    "id": "sSWH76V4ilKA",
    "papermill": {
     "duration": 0.009771,
     "end_time": "2025-09-30T18:44:53.024497",
     "exception": false,
     "start_time": "2025-09-30T18:44:53.014726",
     "status": "completed"
    },
    "tags": []
   },
   "source": [
    "## 8. Formulação de Hipóteses\n",
    "\n",
    "Com base na análise exploratória, formulamos três hipóteses sobre fatores que influenciam o sucesso das startups:\n",
    "\n",
    "**Hipótese 1:** Startups com maior funding total têm maior probabilidade de sucesso, pois mais capital permite maior crescimento e desenvolvimento.\n",
    "\n",
    "**Hipótese 2:** Startups localizadas em hubs de inovação (CA, NY, MA) têm maior taxa de sucesso devido ao ecossistema favorável.\n",
    "\n",
    "**Hipótese 3:** Startups que conseguem múltiplas rodadas de funding (A, B, C, D) demonstram tração e têm maior probabilidade de sucesso."
   ]
  },
  {
   "cell_type": "code",
   "execution_count": 8,
   "id": "bc8a5851",
   "metadata": {
    "execution": {
     "iopub.execute_input": "2025-09-30T18:44:53.045996Z",
     "iopub.status.busy": "2025-09-30T18:44:53.045634Z",
     "iopub.status.idle": "2025-09-30T18:44:53.065990Z",
     "shell.execute_reply": "2025-09-30T18:44:53.064797Z"
    },
    "executionInfo": {
     "elapsed": 14,
     "status": "ok",
     "timestamp": 1759252116647,
     "user": {
      "displayName": "Marcus Valente",
      "userId": "17985071743837421142"
     },
     "user_tz": 180
    },
    "id": "SLCCwA1DilKA",
    "outputId": "24dce077-7108-451c-841e-5854d846b6a4",
    "papermill": {
     "duration": 0.032977,
     "end_time": "2025-09-30T18:44:53.067580",
     "exception": false,
     "start_time": "2025-09-30T18:44:53.034603",
     "status": "completed"
    },
    "tags": []
   },
   "outputs": [
    {
     "name": "stdout",
     "output_type": "stream",
     "text": [
      "=== TESTE DAS HIPÓTESES ===\n",
      "\n",
      "Hipótese 1 - Funding mediano:\n",
      "Sucesso: $13,000,000\n",
      "Fracasso: $5,000,000\n",
      "Razão: 2.60x\n",
      "\n",
      "Hipótese 2 - Taxa de sucesso por localização:\n",
      "Hubs de inovação: 0.709\n",
      "Outras localizações: 0.460\n",
      "\n",
      "Hipótese 3 - Taxa de sucesso por número de rodadas:\n",
      "Múltiplas rodadas: 0.720\n",
      "Rodada única: 0.493\n"
     ]
    }
   ],
   "source": [
    "# Testando as hipóteses com análises estatísticas\n",
    "print(\"=== TESTE DAS HIPÓTESES ===\")\n",
    "\n",
    "# Hipótese 1: Funding total e sucesso\n",
    "success_funding = train[train['labels'] == 1]['funding_total_usd'].median()\n",
    "failure_funding = train[train['labels'] == 0]['funding_total_usd'].median()\n",
    "print(f\"\\nHipótese 1 - Funding mediano:\")\n",
    "print(f\"Sucesso: ${success_funding:,.0f}\")\n",
    "print(f\"Fracasso: ${failure_funding:,.0f}\")\n",
    "print(f\"Razão: {success_funding/failure_funding:.2f}x\")\n",
    "\n",
    "# Hipótese 2: Localização em hubs de inovação\n",
    "train['is_innovation_hub'] = (train['is_CA'] + train['is_NY'] + train['is_MA']).astype(bool)\n",
    "hub_success_rate = train[train['is_innovation_hub']]['labels'].mean()\n",
    "non_hub_success_rate = train[~train['is_innovation_hub']]['labels'].mean()\n",
    "print(f\"\\nHipótese 2 - Taxa de sucesso por localização:\")\n",
    "print(f\"Hubs de inovação: {hub_success_rate:.3f}\")\n",
    "print(f\"Outras localizações: {non_hub_success_rate:.3f}\")\n",
    "\n",
    "# Hipótese 3: Múltiplas rodadas de funding\n",
    "train['multiple_rounds'] = (train['funding_rounds'] >= 2).astype(bool)\n",
    "multiple_rounds_success = train[train['multiple_rounds']]['labels'].mean()\n",
    "single_round_success = train[~train['multiple_rounds']]['labels'].mean()\n",
    "print(f\"\\nHipótese 3 - Taxa de sucesso por número de rodadas:\")\n",
    "print(f\"Múltiplas rodadas: {multiple_rounds_success:.3f}\")\n",
    "print(f\"Rodada única: {single_round_success:.3f}\")"
   ]
  },
  {
   "cell_type": "markdown",
   "id": "75623540",
   "metadata": {
    "id": "YVSsf3JailKA",
    "papermill": {
     "duration": 0.009731,
     "end_time": "2025-09-30T18:44:53.087434",
     "exception": false,
     "start_time": "2025-09-30T18:44:53.077703",
     "status": "completed"
    },
    "tags": []
   },
   "source": [
    "## 9. Seleção de Features\n",
    "\n",
    "Selecionamos as features mais relevantes baseadas na análise exploratória e nas hipóteses formuladas. Utilizamos todas as features criadas na engenharia de features por serem teoricamente fundamentadas."
   ]
  },
  {
   "cell_type": "code",
   "execution_count": 9,
   "id": "9a68b3f3",
   "metadata": {
    "execution": {
     "iopub.execute_input": "2025-09-30T18:44:53.109486Z",
     "iopub.status.busy": "2025-09-30T18:44:53.108657Z",
     "iopub.status.idle": "2025-09-30T18:44:53.115512Z",
     "shell.execute_reply": "2025-09-30T18:44:53.114542Z"
    },
    "executionInfo": {
     "elapsed": 3,
     "status": "ok",
     "timestamp": 1759252116651,
     "user": {
      "displayName": "Marcus Valente",
      "userId": "17985071743837421142"
     },
     "user_tz": 180
    },
    "id": "hHxC4o9silKA",
    "outputId": "2e584a01-b976-434e-e365-5ea6c94b18ab",
    "papermill": {
     "duration": 0.019344,
     "end_time": "2025-09-30T18:44:53.116959",
     "exception": false,
     "start_time": "2025-09-30T18:44:53.097615",
     "status": "completed"
    },
    "tags": []
   },
   "outputs": [
    {
     "name": "stdout",
     "output_type": "stream",
     "text": [
      "Total de features selecionadas: 41\n",
      "Features contínuas: 14\n",
      "Features categóricas: 1\n",
      "Features binárias: 26\n",
      "\n",
      "Todas as features selecionadas estão disponíveis nos dados.\n"
     ]
    }
   ],
   "source": [
    "# As features foram selecionadas baseadas em:\n",
    "# 1. Análise de correlação com o target\n",
    "# 2. Importância de negócio (funding, milestones, relationships)\n",
    "# 3. Features engenheiradas que capturam relações importantes\n",
    "# 4. Variáveis categóricas e binárias relevantes\n",
    "\n",
    "selected_features = cont_features + cat_features + bin_features\n",
    "print(f\"Total de features selecionadas: {len(selected_features)}\")\n",
    "print(f\"Features contínuas: {len(cont_features)}\")\n",
    "print(f\"Features categóricas: {len(cat_features)}\")\n",
    "print(f\"Features binárias: {len(bin_features)}\")\n",
    "\n",
    "# Verificando se todas as features existem nos dados\n",
    "missing_features = set(selected_features) - set(X.columns)\n",
    "if missing_features:\n",
    "    print(f\"\\nAtenção: Features não encontradas nos dados: {missing_features}\")\n",
    "else:\n",
    "    print(\"\\nTodas as features selecionadas estão disponíveis nos dados.\")"
   ]
  },
  {
   "cell_type": "markdown",
   "id": "5ff4655f",
   "metadata": {
    "id": "GaGuTlxzilKA",
    "papermill": {
     "duration": 0.009773,
     "end_time": "2025-09-30T18:44:53.136856",
     "exception": false,
     "start_time": "2025-09-30T18:44:53.127083",
     "status": "completed"
    },
    "tags": []
   },
   "source": [
    "## 10. Construção e Avaliação do Modelo Random Forest\n",
    "\n",
    "Iniciamos com Random Forest, um modelo robusto que funciona bem com features mistas (numéricas e categóricas) e é menos propenso a overfitting. O parâmetro class_weight='balanced' foi usado para lidar com o desbalanceamento das classes."
   ]
  },
  {
   "cell_type": "code",
   "execution_count": 10,
   "id": "a4012d75",
   "metadata": {
    "execution": {
     "iopub.execute_input": "2025-09-30T18:44:53.158253Z",
     "iopub.status.busy": "2025-09-30T18:44:53.157936Z",
     "iopub.status.idle": "2025-09-30T18:44:54.551013Z",
     "shell.execute_reply": "2025-09-30T18:44:54.549997Z"
    },
    "executionInfo": {
     "elapsed": 1698,
     "status": "ok",
     "timestamp": 1759252118350,
     "user": {
      "displayName": "Marcus Valente",
      "userId": "17985071743837421142"
     },
     "user_tz": 180
    },
    "id": "JV64LRo8ilKA",
    "outputId": "382f8ef0-5ac0-4a1e-fa35-a8be143280aa",
    "papermill": {
     "duration": 1.40617,
     "end_time": "2025-09-30T18:44:54.552999",
     "exception": false,
     "start_time": "2025-09-30T18:44:53.146829",
     "status": "completed"
    },
    "tags": []
   },
   "outputs": [
    {
     "name": "stdout",
     "output_type": "stream",
     "text": [
      "========== RANDOM FOREST - RESULTADOS ==========\n",
      "Acurácia no conjunto de validação: 0.7769\n",
      "ROC-AUC: 0.8313\n",
      "F1-Score: 0.8380\n",
      "\n",
      "Classification Report:\n",
      "              precision    recall  f1-score   support\n",
      "\n",
      "           0     0.7429    0.5652    0.6420        46\n",
      "           1     0.7895    0.8929    0.8380        84\n",
      "\n",
      "    accuracy                         0.7769       130\n",
      "   macro avg     0.7662    0.7290    0.7400       130\n",
      "weighted avg     0.7730    0.7769    0.7686       130\n",
      "\n",
      "\n",
      "Confusion Matrix:\n",
      "[[26 20]\n",
      " [ 9 75]]\n",
      "\n",
      "Validação cruzada ROC-AUC: 0.7993 ± 0.0330\n"
     ]
    }
   ],
   "source": [
    "# Modelo Random Forest com class_weight='balanced' para lidar com desbalanceamento\n",
    "rf_model = Pipeline([\n",
    "    ('pre', preprocessor),\n",
    "    ('clf', RandomForestClassifier(class_weight='balanced', random_state=42))\n",
    "])\n",
    "\n",
    "# Treinamento\n",
    "rf_model.fit(X_train, y_train)\n",
    "\n",
    "# Avaliação no conjunto de validação\n",
    "y_pred_rf = rf_model.predict(X_val)\n",
    "y_proba_rf = rf_model.predict_proba(X_val)[:, 1]\n",
    "\n",
    "print(\"========== RANDOM FOREST - RESULTADOS ==========\")\n",
    "print(f\"Acurácia no conjunto de validação: {rf_model.score(X_val, y_val):.4f}\")\n",
    "print(f\"ROC-AUC: {roc_auc_score(y_val, y_proba_rf):.4f}\")\n",
    "print(f\"F1-Score: {f1_score(y_val, y_pred_rf):.4f}\")\n",
    "\n",
    "print(\"\\nClassification Report:\")\n",
    "print(classification_report(y_val, y_pred_rf, digits=4))\n",
    "\n",
    "print(\"\\nConfusion Matrix:\")\n",
    "print(confusion_matrix(y_val, y_pred_rf))\n",
    "\n",
    "# Validação cruzada para avaliar estabilidade\n",
    "rf_cv_scores = cross_val_score(rf_model, X, y,\n",
    "                              cv=StratifiedKFold(n_splits=5, shuffle=True, random_state=42),\n",
    "                              scoring='roc_auc')\n",
    "print(f\"\\nValidação cruzada ROC-AUC: {rf_cv_scores.mean():.4f} ± {rf_cv_scores.std():.4f}\")"
   ]
  },
  {
   "cell_type": "markdown",
   "id": "5373f566",
   "metadata": {
    "id": "VSIJMZdlilKA",
    "papermill": {
     "duration": 0.010996,
     "end_time": "2025-09-30T18:44:54.574587",
     "exception": false,
     "start_time": "2025-09-30T18:44:54.563591",
     "status": "completed"
    },
    "tags": []
   },
   "source": [
    "## 11. Finetuning de Hiperparâmetros com GridSearchCV\n",
    "\n",
    "Utilizamos GridSearchCV para encontrar os melhores hiperparâmetros para o Random Forest, otimizando a métrica ROC-AUC. Esta é uma busca sistemática pelos melhores parâmetros dentro de um grid definido."
   ]
  },
  {
   "cell_type": "code",
   "execution_count": 11,
   "id": "52bf4efb",
   "metadata": {
    "execution": {
     "iopub.execute_input": "2025-09-30T18:44:54.597134Z",
     "iopub.status.busy": "2025-09-30T18:44:54.596839Z",
     "iopub.status.idle": "2025-09-30T18:45:05.646956Z",
     "shell.execute_reply": "2025-09-30T18:45:05.645877Z"
    },
    "executionInfo": {
     "elapsed": 26029,
     "status": "ok",
     "timestamp": 1759252144381,
     "user": {
      "displayName": "Marcus Valente",
      "userId": "17985071743837421142"
     },
     "user_tz": 180
    },
    "id": "ATpMgm9MilKB",
    "outputId": "b84046d3-6e2c-42c6-90e1-a75d0e35b6cb",
    "papermill": {
     "duration": 11.062891,
     "end_time": "2025-09-30T18:45:05.648452",
     "exception": false,
     "start_time": "2025-09-30T18:44:54.585561",
     "status": "completed"
    },
    "tags": []
   },
   "outputs": [
    {
     "name": "stdout",
     "output_type": "stream",
     "text": [
      "Executando GridSearchCV para Random Forest...\n",
      "Fitting 3 folds for each of 24 candidates, totalling 72 fits\n",
      "\n",
      "========== RANDOM FOREST - HIPERPARÂMETROS OTIMIZADOS ==========\n",
      "Melhor ROC-AUC (CV): 0.7947\n",
      "Melhores parâmetros: {'clf__max_depth': 5, 'clf__min_samples_leaf': 1, 'clf__min_samples_split': 2, 'clf__n_estimators': 100}\n",
      "\n",
      "Acurácia na validação: 0.7692\n",
      "ROC-AUC: 0.8253\n",
      "F1-Score: 0.8256\n",
      "\n",
      "Classification Report:\n",
      "              precision    recall  f1-score   support\n",
      "\n",
      "           0     0.6905    0.6304    0.6591        46\n",
      "           1     0.8068    0.8452    0.8256        84\n",
      "\n",
      "    accuracy                         0.7692       130\n",
      "   macro avg     0.7486    0.7378    0.7423       130\n",
      "weighted avg     0.7657    0.7692    0.7667       130\n",
      "\n",
      "\n",
      "Validação cruzada final ROC-AUC: 0.8059 ± 0.0439\n"
     ]
    }
   ],
   "source": [
    "# Definindo grid de hiperparâmetros para Random Forest baseado no arquivo 01.py\n",
    "rf_param_grid = {\n",
    "    'clf__n_estimators': [100, 200],\n",
    "    'clf__max_depth': [3, 5, 7],\n",
    "    'clf__min_samples_split': [2, 5],\n",
    "    'clf__min_samples_leaf': [1, 2]\n",
    "}\n",
    "\n",
    "# GridSearchCV com validação cruzada\n",
    "rf_grid = GridSearchCV(\n",
    "    rf_model,\n",
    "    rf_param_grid,\n",
    "    cv=3,\n",
    "    scoring='roc_auc',\n",
    "    n_jobs=-1,\n",
    "    verbose=1\n",
    ")\n",
    "\n",
    "print(\"Executando GridSearchCV para Random Forest...\")\n",
    "rf_grid.fit(X_train, y_train)\n",
    "\n",
    "# Melhor modelo\n",
    "best_rf = rf_grid.best_estimator_\n",
    "\n",
    "print(\"\\n========== RANDOM FOREST - HIPERPARÂMETROS OTIMIZADOS ==========\")\n",
    "print(f\"Melhor ROC-AUC (CV): {rf_grid.best_score_:.4f}\")\n",
    "print(f\"Melhores parâmetros: {rf_grid.best_params_}\")\n",
    "\n",
    "# Avaliação do melhor modelo\n",
    "y_pred_best_rf = best_rf.predict(X_val)\n",
    "y_proba_best_rf = best_rf.predict_proba(X_val)[:, 1]\n",
    "\n",
    "print(f\"\\nAcurácia na validação: {best_rf.score(X_val, y_val):.4f}\")\n",
    "print(f\"ROC-AUC: {roc_auc_score(y_val, y_proba_best_rf):.4f}\")\n",
    "print(f\"F1-Score: {f1_score(y_val, y_pred_best_rf):.4f}\")\n",
    "\n",
    "print(\"\\nClassification Report:\")\n",
    "print(classification_report(y_val, y_pred_best_rf, digits=4))\n",
    "\n",
    "# Validação cruzada final\n",
    "best_rf_cv = cross_val_score(best_rf, X, y,\n",
    "                            cv=StratifiedKFold(n_splits=5, shuffle=True, random_state=42),\n",
    "                            scoring='roc_auc')\n",
    "print(f\"\\nValidação cruzada final ROC-AUC: {best_rf_cv.mean():.4f} ± {best_rf_cv.std():.4f}\")"
   ]
  },
  {
   "cell_type": "markdown",
   "id": "277ea2ab",
   "metadata": {
    "id": "x5z8EEeBilKB",
    "papermill": {
     "duration": 0.01057,
     "end_time": "2025-09-30T18:45:05.669785",
     "exception": false,
     "start_time": "2025-09-30T18:45:05.659215",
     "status": "completed"
    },
    "tags": []
   },
   "source": [
    "## 12. Métricas de Avaliação Detalhadas\n",
    "\n",
    "Analisamos múltiplas métricas para uma avaliação completa do modelo, incluindo acurácia, precisão, recall e F1-score. O objetivo é atingir pelo menos 80% de acurácia conforme especificado nas regras."
   ]
  },
  {
   "cell_type": "code",
   "execution_count": 12,
   "id": "eea825dd",
   "metadata": {
    "execution": {
     "iopub.execute_input": "2025-09-30T18:45:05.693118Z",
     "iopub.status.busy": "2025-09-30T18:45:05.692571Z",
     "iopub.status.idle": "2025-09-30T18:45:05.915563Z",
     "shell.execute_reply": "2025-09-30T18:45:05.914427Z"
    },
    "executionInfo": {
     "elapsed": 311,
     "status": "ok",
     "timestamp": 1759252144715,
     "user": {
      "displayName": "Marcus Valente",
      "userId": "17985071743837421142"
     },
     "user_tz": 180
    },
    "id": "XE2jNjDjilKB",
    "outputId": "57ebb65d-9841-4645-a0c9-75df2bd0c5d5",
    "papermill": {
     "duration": 0.236196,
     "end_time": "2025-09-30T18:45:05.917290",
     "exception": false,
     "start_time": "2025-09-30T18:45:05.681094",
     "status": "completed"
    },
    "tags": []
   },
   "outputs": [
    {
     "data": {
      "image/png": "[encoded data removed]",
      "text/plain": [
       "<Figure size 800x600 with 2 Axes>"
      ]
     },
     "metadata": {},
     "output_type": "display_data"
    },
    {
     "name": "stdout",
     "output_type": "stream",
     "text": [
      "\n",
      "========== MÉTRICAS FINAIS DO MODELO ==========\n",
      "Acurácia: 0.7692\n",
      "Precisão: 0.8068\n",
      "Recall: 0.8452\n",
      "F1-Score: 0.8256\n",
      "ROC-AUC: 0.8253\n",
      "\n",
      "ATENÇÃO: Acurácia de 76.9% < 80% (objetivo mínimo)\n"
     ]
    }
   ],
   "source": [
    "# Matriz de confusão detalhada\n",
    "from sklearn.metrics import precision_score, recall_score\n",
    "\n",
    "plt.figure(figsize=(8, 6))\n",
    "cm = confusion_matrix(y_val, y_pred_best_rf)\n",
    "sns.heatmap(cm, annot=True, fmt='d', cmap='Blues',\n",
    "           xticklabels=['Fracasso', 'Sucesso'],\n",
    "           yticklabels=['Fracasso', 'Sucesso'])\n",
    "plt.title('Matriz de Confusão - Random Forest Otimizado')\n",
    "plt.ylabel('Valor Real')\n",
    "plt.xlabel('Predição')\n",
    "plt.show()\n",
    "\n",
    "# Métricas detalhadas\n",
    "accuracy = best_rf.score(X_val, y_val)\n",
    "precision = precision_score(y_val, y_pred_best_rf)\n",
    "recall = recall_score(y_val, y_pred_best_rf)\n",
    "f1 = f1_score(y_val, y_pred_best_rf)\n",
    "roc_auc = roc_auc_score(y_val, y_proba_best_rf)\n",
    "\n",
    "print(\"\\n========== MÉTRICAS FINAIS DO MODELO ==========\")\n",
    "print(f\"Acurácia: {accuracy:.4f}\")\n",
    "print(f\"Precisão: {precision:.4f}\")\n",
    "print(f\"Recall: {recall:.4f}\")\n",
    "print(f\"F1-Score: {f1:.4f}\")\n",
    "print(f\"ROC-AUC: {roc_auc:.4f}\")\n",
    "\n",
    "# Verificando se atinge acurácia mínima de 80%\n",
    "if accuracy >= 0.80:\n",
    "    print(f\"\\nOBJETIVO ALCANÇADO: Acurácia de {accuracy:.1%} >= 80%\")\n",
    "else:\n",
    "    print(f\"\\nATENÇÃO: Acurácia de {accuracy:.1%} < 80% (objetivo mínimo)\")"
   ]
  },
  {
   "cell_type": "code",
   "execution_count": 13,
   "id": "0f5df120",
   "metadata": {
    "execution": {
     "iopub.execute_input": "2025-09-30T18:45:05.940880Z",
     "iopub.status.busy": "2025-09-30T18:45:05.940556Z",
     "iopub.status.idle": "2025-09-30T18:45:07.657317Z",
     "shell.execute_reply": "2025-09-30T18:45:07.656207Z"
    },
    "executionInfo": {
     "elapsed": 4874,
     "status": "ok",
     "timestamp": 1759252197771,
     "user": {
      "displayName": "Marcus Valente",
      "userId": "17985071743837421142"
     },
     "user_tz": 180
    },
    "id": "DsG2p1kFmbzu",
    "outputId": "e182814f-2e66-4552-9540-40dceafb237e",
    "papermill": {
     "duration": 1.730292,
     "end_time": "2025-09-30T18:45:07.658819",
     "exception": false,
     "start_time": "2025-09-30T18:45:05.928527",
     "status": "completed"
    },
    "tags": []
   },
   "outputs": [
    {
     "name": "stdout",
     "output_type": "stream",
     "text": [
      "========== GRADIENT BOOSTING - RESULTADOS ==========\n",
      "Acurácia no conjunto de validação: 0.8000\n",
      "ROC-AUC: 0.8362\n",
      "F1-Score: 0.8571\n",
      "\n",
      "Classification Report:\n",
      "              precision    recall  f1-score   support\n",
      "\n",
      "           0     0.8125    0.5652    0.6667        46\n",
      "           1     0.7959    0.9286    0.8571        84\n",
      "\n",
      "    accuracy                         0.8000       130\n",
      "   macro avg     0.8042    0.7469    0.7619       130\n",
      "weighted avg     0.8018    0.8000    0.7897       130\n",
      "\n",
      "\n",
      "Confusion Matrix:\n",
      "[[26 20]\n",
      " [ 6 78]]\n",
      "\n",
      "Validação cruzada ROC-AUC: 0.8061 ± 0.0442\n"
     ]
    }
   ],
   "source": [
    "from sklearn.ensemble import GradientBoostingClassifier\n",
    "\n",
    "# Modelo Gradient Boosting\n",
    "gb_model = Pipeline([\n",
    "    ('pre', preprocessor),\n",
    "    ('clf', GradientBoostingClassifier(random_state=42))\n",
    "])\n",
    "\n",
    "# Treinamento\n",
    "gb_model.fit(X_train, y_train)\n",
    "\n",
    "# Avaliação no conjunto de validação\n",
    "y_pred_gb = gb_model.predict(X_val)\n",
    "y_proba_gb = gb_model.predict_proba(X_val)[:, 1]\n",
    "\n",
    "print(\"========== GRADIENT BOOSTING - RESULTADOS ==========\")\n",
    "print(f\"Acurácia no conjunto de validação: {gb_model.score(X_val, y_val):.4f}\")\n",
    "print(f\"ROC-AUC: {roc_auc_score(y_val, y_proba_gb):.4f}\")\n",
    "print(f\"F1-Score: {f1_score(y_val, y_pred_gb):.4f}\")\n",
    "\n",
    "print(\"\\nClassification Report:\")\n",
    "print(classification_report(y_val, y_pred_gb, digits=4))\n",
    "\n",
    "print(\"\\nConfusion Matrix:\")\n",
    "print(confusion_matrix(y_val, y_pred_gb))\n",
    "\n",
    "# Validação cruzada para avaliar estabilidade\n",
    "gb_cv_scores = cross_val_score(gb_model, X, y,\n",
    "                              cv=StratifiedKFold(n_splits=5, shuffle=True, random_state=42),\n",
    "                              scoring='roc_auc')\n",
    "print(f\"\\nValidação cruzada ROC-AUC: {gb_cv_scores.mean():.4f} ± {gb_cv_scores.std():.4f}\")"
   ]
  },
  {
   "cell_type": "markdown",
   "id": "bff1b68a",
   "metadata": {
    "id": "lko8Ksvgms1W",
    "papermill": {
     "duration": 0.010735,
     "end_time": "2025-09-30T18:45:07.681027",
     "exception": false,
     "start_time": "2025-09-30T18:45:07.670292",
     "status": "completed"
    },
    "tags": []
   },
   "source": [
    "### **12.1 Objetivo atingido**\n",
    "\n",
    "- O objetivo de conseguir 80% de acurácia foi atingido usando o GradientBoosting."
   ]
  },
  {
   "cell_type": "markdown",
   "id": "e2353731",
   "metadata": {
    "id": "hGaY2bZdilKB",
    "papermill": {
     "duration": 0.010909,
     "end_time": "2025-09-30T18:45:07.767381",
     "exception": false,
     "start_time": "2025-09-30T18:45:07.756472",
     "status": "completed"
    },
    "tags": []
   },
   "source": [
    "## 13. Geração da Submissão\n",
    "\n",
    "Aplicamos o modelo treinado no conjunto de teste e geramos o arquivo de submissão no formato especificado."
   ]
  },
  {
   "cell_type": "code",
   "execution_count": 14,
   "id": "49ff31df",
   "metadata": {
    "execution": {
     "iopub.execute_input": "2025-09-30T18:45:07.792639Z",
     "iopub.status.busy": "2025-09-30T18:45:07.791586Z",
     "iopub.status.idle": "2025-09-30T18:45:07.834937Z",
     "shell.execute_reply": "2025-09-30T18:45:07.833611Z"
    },
    "executionInfo": {
     "elapsed": 62,
     "status": "ok",
     "timestamp": 1759257533780,
     "user": {
      "displayName": "Marcus Valente",
      "userId": "17985071743837421142"
     },
     "user_tz": 180
    },
    "id": "NI4KJRskilKB",
    "outputId": "3d1b8868-a91f-4c81-abd1-a53b61182576",
    "papermill": {
     "duration": 0.057968,
     "end_time": "2025-09-30T18:45:07.836855",
     "exception": false,
     "start_time": "2025-09-30T18:45:07.778887",
     "status": "completed"
    },
    "tags": []
   },
   "outputs": [
    {
     "name": "stdout",
     "output_type": "stream",
     "text": [
      "\n",
      "========== SUBMISSÃO GERADA - RANDOM FOREST ==========\n",
      "Arquivo: submission_random_forest.csv\n",
      "Registros: 277\n",
      "\n",
      "Distribuição das predições:\n",
      "labels\n",
      "1    0.649819\n",
      "0    0.350181\n",
      "Name: proportion, dtype: float64\n",
      "\n",
      "Primeiras 10 predições (Random Forest):\n",
      "    id  labels\n",
      "0   70       1\n",
      "1   23       0\n",
      "2  389       1\n",
      "3  872       1\n",
      "4  920       0\n",
      "5  690       1\n",
      "6  588       0\n",
      "7  144       0\n",
      "8  875       1\n",
      "9  900       1\n",
      "\n",
      "========== SUBMISSÃO GERADA - GRADIENT BOOSTING ==========\n",
      "Arquivo: submission_gradient_boosting.csv\n",
      "Registros: 277\n",
      "\n",
      "Distribuição das predições:\n",
      "labels\n",
      "1    0.700361\n",
      "0    0.299639\n",
      "Name: proportion, dtype: float64\n",
      "\n",
      "Primeiras 10 predições (Gradient Boosting):\n",
      "    id  labels\n",
      "0   70       1\n",
      "1   23       0\n",
      "2  389       1\n",
      "3  872       1\n",
      "4  920       1\n",
      "5  690       1\n",
      "6  588       0\n",
      "7  144       1\n",
      "8  875       1\n",
      "9  900       1\n"
     ]
    }
   ],
   "source": [
    "# Preparação dos dados de teste\n",
    "X_test = test.drop(['id'], axis=1)\n",
    "\n",
    "# Predições no conjunto de teste com Random Forest\n",
    "test_predictions_rf = best_rf.predict(X_test)\n",
    "# test_probabilities_rf = best_rf.predict_proba(X_test)[:, 1] # Not needed for submission\n",
    "\n",
    "# Predições no conjunto de teste com Gradient Boosting\n",
    "test_predictions_gb = gb_model.predict(X_test)\n",
    "# test_probabilities_gb = gb_model.predict_proba(X_test)[:, 1] # Not needed for submission\n",
    "\n",
    "# Criação do arquivo de submissão para Random Forest\n",
    "submission_rf = pd.DataFrame({\n",
    "    'id': test['id'],\n",
    "    'labels': test_predictions_rf\n",
    "})\n",
    "\n",
    "# Salvando arquivo de submissão Random Forest\n",
    "submission_rf.to_csv('/kaggle/working/submission_random_forest.csv', index=False)\n",
    "\n",
    "print(\"\\n========== SUBMISSÃO GERADA - RANDOM FOREST ==========\")\n",
    "print(f\"Arquivo: submission_random_forest.csv\")\n",
    "print(f\"Registros: {len(submission_rf)}\")\n",
    "print(f\"\\nDistribuição das predições:\")\n",
    "print(submission_rf['labels'].value_counts(normalize=True))\n",
    "\n",
    "# Exibindo primeiras linhas da submissão Random Forest\n",
    "print(f\"\\nPrimeiras 10 predições (Random Forest):\")\n",
    "print(submission_rf.head(10))\n",
    "\n",
    "\n",
    "# Criação do arquivo de submissão para Gradient Boosting\n",
    "submission_gb = pd.DataFrame({\n",
    "    'id': test['id'],\n",
    "    'labels': test_predictions_gb\n",
    "})\n",
    "\n",
    "# Salvando arquivo de submissão Gradient Boosting\n",
    "submission_gb.to_csv('/kaggle/working/submission_gradient_boosting.csv', index=False)\n",
    "\n",
    "print(\"\\n========== SUBMISSÃO GERADA - GRADIENT BOOSTING ==========\")\n",
    "print(f\"Arquivo: submission_gradient_boosting.csv\")\n",
    "print(f\"Registros: {len(submission_gb)}\")\n",
    "print(f\"\\nDistribuição das predições:\")\n",
    "print(submission_gb['labels'].value_counts(normalize=True))\n",
    "\n",
    "# Exibindo primeiras linhas da submissão Gradient Boosting\n",
    "print(f\"\\nPrimeiras 10 predições (Gradient Boosting):\")\n",
    "print(submission_gb.head(10))"
   ]
  },
  {
   "cell_type": "markdown",
   "id": "b0109305",
   "metadata": {
    "id": "i6F-TP3AilKB",
    "papermill": {
     "duration": 0.011392,
     "end_time": "2025-09-30T18:45:07.860976",
     "exception": false,
     "start_time": "2025-09-30T18:45:07.849584",
     "status": "completed"
    },
    "tags": []
   },
   "source": [
    "## 14. Interpretabilidade - Feature Importance\n",
    "\n",
    "Analisamos quais features foram mais importantes para as predições do modelo, ajudando a entender os fatores que mais influenciam o sucesso de startups."
   ]
  },
  {
   "cell_type": "code",
   "execution_count": 15,
   "id": "2ea40a83",
   "metadata": {
    "execution": {
     "iopub.execute_input": "2025-09-30T18:45:07.885489Z",
     "iopub.status.busy": "2025-09-30T18:45:07.885020Z",
     "iopub.status.idle": "2025-09-30T18:45:08.198087Z",
     "shell.execute_reply": "2025-09-30T18:45:08.197013Z"
    },
    "executionInfo": {
     "elapsed": 318,
     "status": "ok",
     "timestamp": 1759252145070,
     "user": {
      "displayName": "Marcus Valente",
      "userId": "17985071743837421142"
     },
     "user_tz": 180
    },
    "id": "0lV9h2GwilKB",
    "outputId": "7c03a1d2-092b-4cf2-e753-e8318d593022",
    "papermill": {
     "duration": 0.327798,
     "end_time": "2025-09-30T18:45:08.200194",
     "exception": false,
     "start_time": "2025-09-30T18:45:07.872396",
     "status": "completed"
    },
    "tags": []
   },
   "outputs": [
    {
     "data": {
      "image/png": "[encoded data removed]",
      "text/plain": [
       "<Figure size 1000x800 with 1 Axes>"
      ]
     },
     "metadata": {},
     "output_type": "display_data"
    },
    {
     "name": "stdout",
     "output_type": "stream",
     "text": [
      "\n",
      "========== TOP 15 FEATURES MAIS IMPORTANTES ==========\n",
      "relationships                  0.1231\n",
      "relationships_per_round        0.0873\n",
      "milestones_per_year            0.0782\n",
      "funding_per_year               0.0756\n",
      "milestones                     0.0746\n",
      "age_last_milestone_year        0.0657\n",
      "funding_total_usd              0.0590\n",
      "age_last_funding_year          0.0541\n",
      "avg_participants               0.0485\n",
      "funding_per_round              0.0467\n",
      "age_first_funding_year         0.0376\n",
      "age_first_milestone_year       0.0347\n",
      "funding_rounds                 0.0299\n",
      "participants_per_round         0.0209\n",
      "is_high_milestones             0.0176\n"
     ]
    }
   ],
   "source": [
    "# Obtendo importâncias das features do Random Forest\n",
    "try:\n",
    "    feature_names = (cont_features +\n",
    "                   list(best_rf.named_steps['pre'].named_transformers_['cat']\n",
    "                       .named_steps['onehot'].get_feature_names_out(cat_features)) +\n",
    "                   bin_features)\n",
    "\n",
    "    importances = best_rf.named_steps['clf'].feature_importances_\n",
    "    feature_importance_df = pd.DataFrame({\n",
    "        'feature': feature_names,\n",
    "        'importance': importances\n",
    "    }).sort_values('importance', ascending=False)\n",
    "\n",
    "    # Plotando as 15 features mais importantes\n",
    "    plt.figure(figsize=(10, 8))\n",
    "    top_15_features = feature_importance_df.head(15)\n",
    "    sns.barplot(data=top_15_features, y='feature', x='importance')\n",
    "    plt.title('Top 15 Features Mais Importantes - Random Forest')\n",
    "    plt.xlabel('Importância')\n",
    "    plt.tight_layout()\n",
    "    plt.show()\n",
    "\n",
    "    # Exibindo tabela das features mais importantes\n",
    "    print(\"\\n========== TOP 15 FEATURES MAIS IMPORTANTES ==========\")\n",
    "    for i, row in top_15_features.iterrows():\n",
    "        print(f\"{row['feature']:30} {row['importance']:.4f}\")\n",
    "\n",
    "except Exception as e:\n",
    "    print(f\"Erro ao extrair feature importance: {e}\")\n",
    "    # Fallback para importâncias básicas\n",
    "    importances = best_rf.named_steps['clf'].feature_importances_\n",
    "    print(f\"\\nTop 10 importâncias (índices): {np.argsort(importances)[-10:][::-1]}\")\n",
    "    print(f\"Valores: {np.sort(importances)[-10:][::-1]}\")"
   ]
  },
  {
   "cell_type": "markdown",
   "id": "d2b0e6ad",
   "metadata": {
    "id": "AcWoxH2JilKB",
    "papermill": {
     "duration": 0.013185,
     "end_time": "2025-09-30T18:45:08.226623",
     "exception": false,
     "start_time": "2025-09-30T18:45:08.213438",
     "status": "completed"
    },
    "tags": []
   },
   "source": [
    "## 15. Extras - Experimentos Avançados\n",
    "\n",
    "Esta seção documenta experimentos adicionais realizados para tentar melhorar a performance do modelo, incluindo técnicas mais avançadas que não estão nas bibliotecas permitidas pela regra do campeonato."
   ]
  },
  {
   "cell_type": "markdown",
   "id": "818d605c",
   "metadata": {
    "id": "gf9dapUUilKB",
    "papermill": {
     "duration": 0.012951,
     "end_time": "2025-09-30T18:45:08.252732",
     "exception": false,
     "start_time": "2025-09-30T18:45:08.239781",
     "status": "completed"
    },
    "tags": []
   },
   "source": [
    "### 15.1 Feature Engineering Avançado (Arquivo 02.py)\n",
    "\n",
    "No arquivo `02.py`, foram criadas features mais sofisticadas baseadas em pesquisa sobre fatores de sucesso de startups, incluindo:\n",
    "\n",
    "**Features de progressão de funding:**\n",
    "```python\n",
    "df['funding_progression_score'] = (df['has_roundA'] + df['has_roundB'] + df['has_roundC'] + df['has_roundD'])\n",
    "df['advanced_funding_rounds'] = ((df['has_roundC'] + df['has_roundD']) >= 1).astype(int)\n",
    "```\n",
    "\n",
    "**Features de velocidade e momentum:**\n",
    "```python\n",
    "df['funding_velocity'] = df['funding_total_usd'] / (df['age_last_funding_year'].fillna(1) + 1)\n",
    "df['milestone_momentum'] = df['milestones'] / (df['age_last_milestone_year'].fillna(1) + 1)\n",
    "```\n",
    "\n",
    "**Features de tração e eficiência:**\n",
    "```python\n",
    "df['traction_score'] = (df['funding_total_usd'] / 1000000) * df['milestones'] * df['relationships']\n",
    "df['efficiency_ratio'] = df['milestones'] / (df['funding_total_usd'] / 1000000 + 1)\n",
    "```\n",
    "\n",
    "Essas features foram desenvolvidas com base em literatura sobre fatores críticos de sucesso para startups."
   ]
  },
  {
   "cell_type": "markdown",
   "id": "0da86209",
   "metadata": {
    "id": "z_0tfCaTilKB",
    "papermill": {
     "duration": 0.013271,
     "end_time": "2025-09-30T18:45:08.279451",
     "exception": false,
     "start_time": "2025-09-30T18:45:08.266180",
     "status": "completed"
    },
    "tags": []
   },
   "source": [
    "### 15.2 Seleção de Features com XGBoost (Arquivo 03.py)\n",
    "\n",
    "No arquivo `03.py`, foi implementada seleção de features usando XGBoost como seletor:\n",
    "\n",
    "```python\n",
    "# Feature selection usando XGBoost\n",
    "feature_selector_clf = XGBClassifier(\n",
    "    random_state=42,\n",
    "    eval_metric='logloss',\n",
    "    scale_pos_weight=(y.value_counts()[0]/y.value_counts()[1])\n",
    ")\n",
    "feature_selector_clf.fit(X_prep, y)\n",
    "selector = SelectFromModel(feature_selector_clf, prefit=True, threshold='median')\n",
    "X_fs = selector.transform(X_prep)\n",
    "```\n",
    "\n",
    "Esta técnica reduziu o número de features de todas disponíveis para aproximadamente metade, mantendo apenas as mais importantes segundo a importância do XGBoost."
   ]
  },
  {
   "cell_type": "markdown",
   "id": "be76d214",
   "metadata": {
    "id": "B4UiBbZfilKB",
    "papermill": {
     "duration": 0.012722,
     "end_time": "2025-09-30T18:45:08.305172",
     "exception": false,
     "start_time": "2025-09-30T18:45:08.292450",
     "status": "completed"
    },
    "tags": []
   },
   "source": [
    "### 15.3 Target Encoding (Arquivo 03.py)\n",
    "\n",
    "Foi aplicado Target Encoding na variável `category_code` usando a biblioteca `category_encoders`:\n",
    "\n",
    "```python\n",
    "import category_encoders as ce\n",
    "target_encoder = ce.TargetEncoder(cols=['category_code'])\n",
    "X['category_code'] = target_encoder.fit_transform(X['category_code'], y)\n",
    "X_test['category_code'] = target_encoder.transform(X_test['category_code'])\n",
    "```\n",
    "\n",
    "Esta técnica pode ser mais efetiva que One-Hot encoding para variáveis categóricas com muitas categorias, codificando cada categoria com a média do target para essa categoria."
   ]
  },
  {
   "cell_type": "markdown",
   "id": "ba739691",
   "metadata": {
    "id": "SHwkdK6CilKB",
    "papermill": {
     "duration": 0.01291,
     "end_time": "2025-09-30T18:45:08.330864",
     "exception": false,
     "start_time": "2025-09-30T18:45:08.317954",
     "status": "completed"
    },
    "tags": []
   },
   "source": [
    "### 15.4 Otimização de Threshold (Arquivos 02.py e 03.py)\n",
    "\n",
    "Nos arquivos `02.py` e `03.py`, foi implementada otimização do threshold de classificação para maximizar F1-Score:\n",
    "\n",
    "```python\n",
    "thresholds = np.arange(0.2, 0.7, 0.005)\n",
    "f1s = []\n",
    "for th in thresholds:\n",
    "    preds = (y_proba_val > th).astype(int)\n",
    "    f1 = f1_score(y_val, preds)\n",
    "    f1s.append(f1)\n",
    "best_f1_idx = np.argmax(f1s)\n",
    "best_th = thresholds[best_f1_idx]\n",
    "```\n",
    "\n",
    "O melhor threshold encontrado foi usado nas submissões finais, resultando em melhoria na métrica F1-Score."
   ]
  },
  {
   "cell_type": "markdown",
   "id": "1f23b30b",
   "metadata": {
    "id": "tCE_F6ARilKB",
    "papermill": {
     "duration": 0.012783,
     "end_time": "2025-09-30T18:45:08.356440",
     "exception": false,
     "start_time": "2025-09-30T18:45:08.343657",
     "status": "completed"
    },
    "tags": []
   },
   "source": [
    "### 15.5 Análise de Multicolinearidade (Arquivo 04.py)\n",
    "\n",
    "O arquivo `04.py` incluiu análise detalhada de multicolinearidade:\n",
    "\n",
    "```python\n",
    "# Features altamente correlacionadas (> 0.8)\n",
    "corr_matrix = X_train_enhanced.corr().abs()\n",
    "high_corr_var = np.where(corr_matrix > 0.8)\n",
    "high_corr_list = [\n",
    "    (X_train_enhanced.columns[x], X_train_enhanced.columns[y], corr_matrix.iloc[x, y])\n",
    "    for x, y in zip(*high_corr_var) if x != y and x < y\n",
    "]\n",
    "```\n",
    "\n",
    "Esta análise identificou features altamente correlacionadas que podem prejudicar o modelo, permitindo remoção de redundâncias."
   ]
  },
  {
   "cell_type": "markdown",
   "id": "4992430e",
   "metadata": {
    "id": "hOjE8nzrilKC",
    "papermill": {
     "duration": 0.012674,
     "end_time": "2025-09-30T18:45:08.381759",
     "exception": false,
     "start_time": "2025-09-30T18:45:08.369085",
     "status": "completed"
    },
    "tags": []
   },
   "source": [
    "### 15.6 Tratamento de Outliers (Arquivo 04.py)\n",
    "\n",
    "Foi aplicado clipping nos percentis extremos para reduzir o impacto de outliers:\n",
    "\n",
    "```python\n",
    "# Tratamento de outliers usando clipping\n",
    "for col in X_train_enhanced.columns:\n",
    "    if X_train_enhanced[col].dtype in [np.float64, np.int64]:\n",
    "        lower = X_train_enhanced[col].quantile(0.25)\n",
    "        upper = X_train_enhanced[col].quantile(0.75)\n",
    "        X_train_enhanced[col] = X_train_enhanced[col].clip(lower, upper)\n",
    "        X_test_enhanced[col] = X_test_enhanced[col].clip(lower, upper)\n",
    "```\n",
    "\n",
    "Esta técnica é especialmente útil para modelos baseados em árvores, reduzindo o impacto de valores extremos."
   ]
  },
  {
   "cell_type": "markdown",
   "id": "10c13efc",
   "metadata": {
    "id": "ByJFARyWilKC",
    "papermill": {
     "duration": 0.012543,
     "end_time": "2025-09-30T18:45:08.407277",
     "exception": false,
     "start_time": "2025-09-30T18:45:08.394734",
     "status": "completed"
    },
    "tags": []
   },
   "source": [
    "### 15.7 Algoritmos Adicionais Testados\n",
    "\n",
    "Foram testados múltiplos algoritmos para comparação:\n",
    "\n",
    "**No arquivo 04.py:**\n",
    "```python\n",
    "models = {\n",
    "    'RandomForest': RandomForestClassifier(class_weight='balanced'),\n",
    "    'ExtraTrees': ExtraTreesClassifier(class_weight='balanced'),\n",
    "    'XGBClassifier': XGBClassifier(class_weight='balanced')\n",
    "}\n",
    "```\n",
    "\n",
    "**Hiperparametrização avançada com RandomizedSearchCV:**\n",
    "```python\n",
    "param_dist = {\n",
    "    'n_estimators': [100, 200, 300, 400, 500],\n",
    "    'max_depth': [2, 3, 4, 5, 6, 7],\n",
    "    'learning_rate': [0.005, 0.01, 0.05, 0.075, 0.1, 0.2, 0.3],\n",
    "    'subsample': [0.6, 0.7, 0.8, 0.9, 1.0],\n",
    "    'colsample_bytree': [0.6, 0.7, 0.8, 0.9, 1.0]\n",
    "}\n",
    "```"
   ]
  },
  {
   "cell_type": "markdown",
   "id": "da3b1698",
   "metadata": {
    "id": "sBkxnVJCilKC",
    "papermill": {
     "duration": 0.012597,
     "end_time": "2025-09-30T18:45:08.433097",
     "exception": false,
     "start_time": "2025-09-30T18:45:08.420500",
     "status": "completed"
    },
    "tags": []
   },
   "source": [
    "## 16. Conclusões\n",
    "\n",
    "O modelo desenvolvido seguiu rigorosamente as regras do campeonato, utilizando apenas as bibliotecas permitidas (Numpy, Pandas, Scikit-Learn, Matplotlib, Seaborn). Os principais pontos do desenvolvimento foram:\n",
    "\n",
    "### Pontos Fortes da Abordagem:\n",
    "\n",
    "1. **Engenharia de Features Fundamentada**: Criação de features relevantes baseadas em relações lógicas entre variáveis e conhecimento de domínio\n",
    "2. **Tratamento Adequado dos Dados**: Estratégia de imputação com mediana para contínuas e One-Hot encoding para categóricas\n",
    "3. **Seleção de Modelo Apropriada**: Random Forest é robusto para features mistas e menos propenso a overfitting\n",
    "4. **Otimização Sistemática**: GridSearchCV para encontrar melhores hiperparâmetros de forma reproduzível\n",
    "5. **Validação Robusta**: Uso de validação cruzada estratificada para avaliar estabilidade do modelo\n",
    "\n",
    "### Features Mais Importantes Identificadas:\n",
    "- Funding total e funding por rodada\n",
    "- Número de relacionamentos e densidade de rede\n",
    "- Características geográficas (hubs de inovação)\n",
    "- Progressão através de rodadas de funding\n",
    "- Eficiência na conversão de funding em milestones\n",
    "\n",
    "### Métricas Alcançadas:\n",
    "O modelo busca atingir a acurácia mínima de 80% exigida pela competição, priorizando um bom balance entre precisão e recall. As métricas adicionais (ROC-AUC, F1-Score) fornecem uma visão completa da performance.\n",
    "\n",
    "### Próximos Passos para Melhoria:\n",
    "- Testar ensemble de múltiplos algoritmos (Voting/Bagging)\n",
    "- Implementar feature selection mais sofisticada (RFE, LASSO)\n",
    "- Explorar interações de segunda ordem entre features\n",
    "- Análise mais detalhada de casos mal classificados para insights adicionais\n",
    "\n",
    "O desenvolvimento seguiu uma metodologia científica rigorosa, documentando cada decisão e validando as hipóteses formuladas através de análise estatística dos dados."
   ]
  }
 ],
 "metadata": {
  "colab": {
   "provenance": []
  },
  "kaggle": {
   "accelerator": "none",
   "dataSources": [
    {
     "databundleVersionId": 13429585,
     "sourceId": 103531,
     "sourceType": "competition"
    }
   ],
   "isGpuEnabled": false,
   "isInternetEnabled": false,
   "language": "python",
   "sourceType": "notebook"
  },
  "kernelspec": {
   "display_name": "Python 3",
   "language": "python",
   "name": "python3"
  },
  "language_info": {
   "codemirror_mode": {
    "name": "ipython",
    "version": 3
   },
   "file_extension": ".py",
   "mimetype": "text/x-python",
   "name": "python",
   "nbconvert_exporter": "python",
   "pygments_lexer": "ipython3",
   "version": "3.11.13"
  },
  "papermill": {
   "default_parameters": {},
   "duration": 31.502082,
   "end_time": "2025-09-30T18:45:11.066304",
   "environment_variables": {},
   "exception": null,
   "input_path": "__notebook__.ipynb",
   "output_path": "__notebook__.ipynb",
   "parameters": {},
   "start_time": "2025-09-30T18:44:39.564222",
   "version": "2.6.0"
  }
 },
 "nbformat": 4,
 "nbformat_minor": 5
}
